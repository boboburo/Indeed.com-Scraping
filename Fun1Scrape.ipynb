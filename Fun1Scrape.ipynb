{
 "cells": [
  {
   "cell_type": "code",
   "execution_count": 2,
   "metadata": {
    "collapsed": false
   },
   "outputs": [],
   "source": [
    "from bs4 import BeautifulSoup # For HTML parsing\n",
    "import urllib2 # Website connections\n",
    "import re # Regular expressions\n",
    "from time import sleep # To prevent overwhelming the server between connections\n",
    "import pandas as pd # For converting results to a dataframe and bar chart plots\n",
    "%matplotlib inline"
   ]
  },
  {
   "cell_type": "code",
   "execution_count": 6,
   "metadata": {
    "collapsed": true
   },
   "outputs": [],
   "source": [
    "\n",
    "from collections import Counter # Keep track of our term counts\n",
    "from nltk.corpus import stopwords # Filter out stopwords, such as 'the', 'or', 'and'\n"
   ]
  },
  {
   "cell_type": "code",
   "execution_count": 11,
   "metadata": {
    "collapsed": true
   },
   "outputs": [],
   "source": [
    "website=\"http://ie.indeed.com/viewjob?jk=e7039bc2bd730831&q=Quantitative+Analyst&l=Dublin&tk=1a9v7oq3b9p3n94o&from=web\""
   ]
  },
  {
   "cell_type": "code",
   "execution_count": 12,
   "metadata": {
    "collapsed": true
   },
   "outputs": [],
   "source": [
    "site = urllib2.urlopen(website).read()"
   ]
  },
  {
   "cell_type": "code",
   "execution_count": 83,
   "metadata": {
    "collapsed": true
   },
   "outputs": [],
   "source": [
    "soup_obj = BeautifulSoup(site)"
   ]
  },
  {
   "cell_type": "code",
   "execution_count": 84,
   "metadata": {
    "collapsed": false
   },
   "outputs": [
    {
     "data": {
      "text/plain": [
       "6"
      ]
     },
     "execution_count": 84,
     "metadata": {},
     "output_type": "execute_result"
    }
   ],
   "source": [
    "len(soup_obj.findChildren('table'))"
   ]
  },
  {
   "cell_type": "code",
   "execution_count": null,
   "metadata": {
    "collapsed": true
   },
   "outputs": [],
   "source": [
    "soup_"
   ]
  },
  {
   "cell_type": "code",
   "execution_count": 60,
   "metadata": {
    "collapsed": false
   },
   "outputs": [],
   "source": [
    "#for tag in soup_obj.find_all(True):\n",
    " #   print(tag.name)"
   ]
  },
  {
   "cell_type": "code",
   "execution_count": 61,
   "metadata": {
    "collapsed": true
   },
   "outputs": [],
   "source": [
    "for script in soup_obj([\"script\", \"style\"]):\n",
    "    script.extract() # Remove these two elements from the BS4 object"
   ]
  },
  {
   "cell_type": "code",
   "execution_count": 67,
   "metadata": {
    "collapsed": false
   },
   "outputs": [
    {
     "data": {
      "text/plain": [
       "u'\\nQuantitative Analyst job - Indeed - Dublin | Indeed.com\\n\\n\\n\\n\\n\\n\\n\\n\\n\\n\\n\\n\\n\\n\\n\\n\\n\\n\\n\\n\\n\\n\\n\\nFind JobsFind CVsEmployers / Post Job\\n\\n\\n\\n\\n\\n\\n\\nSubmit your CV\\n\\nSign in\\n\\n\\n\\n\\n\\n\\n\\n\\n\\n\\n\\n\\n\\n\\nWhat:\\nWhere:\\n\\n\\n\\n\\n\\nAdvanced Job Search\\n\\n\\n\\xa0\\n\\n\\xa0\\n\\n\\n\\njob title, keywords or company\\n\\n\\ncity or county\\n\\n\\n\\n \\n\\n\\n\\n\\n\\n\\xa0\\n\\n\\n\\nQuantitative Analyst\\n\\nIndeed\\n\\n107 reviews\\n -\\nDublin\\n\\n\\nHow Indeed works.\\n\\n\\nIndeed works when talented, passionate people come together to get a job done.\\n\\n\\nCome help Indeed work. We are looking to grow our teams with people who share our energy and enthusiasm for creating the best experience for job seekers.\\n\\n\\nHow a Quantitative Analyst works.\\n\\n\\nIndeed is looking for a passionate and inquisitive Quantitative Analyst who will lead data driven Marketing efforts in our Dublin office. As Quantitative Analyst, you will be part of our Marketing Sciences team, our most technically skilled branch of Marketing. We, in Marketing Sciences, are passionate about using data to drive intelligent marketing decisions and innovations for our global marketing team.\\n\\n\\nIdeally, you will have had significant experience with ad-hoc data analysis and the constantly changing constraints that analysis work provides.\\n\\n\\nTo be successful in this role, you must have strong math and analytical skills, as well has experience with SQL and a scripting language.\\n\\n\\nHow to apply:\\n\\nWe value attention to detail. Applications that fail to follow these simple steps will not be considered. In your cover letter: Pitch an idea around Indeed\\u2019s data that you would like to deliver within your first month of being here. Read some historical Indeed data blog posts (blog.indeed.com) and choose one to comment on. What did you like? What would you do better? Where would you focus more?\\n\\nResponsibilities\\n\\nAnalyze indeed\\u2019s data to understand underlying business trends such as churn, upsell, traffic acquisition, and many other critical metrics Lead data driven marketing efforts, across many different Marketing teams (PR, Demand Generation, Campaign Labs, and more!) Design statistically sound methodologies around pulling and aggregating data from internal and external data sources Write scripts to automate data processing and other recurring tasks Learn and love Indeed\\u2019s data (we have a lot of it). Understand and manipulate Indeed\\u2019s data - providing simple solutions to complex problems Add to the team\\u2019s infrastructure of algorithms, automation, data mining & quantitative business analytics\\n\\nRequirements:\\n\\n2-5 years experience with Python or R, and SQL Experience with charting, graphing, or other visualization tools You have passions and interests outside of work - you are not just your job Experience with statistical modeling and machine learning is very nice to have Math, Economics, Physics, Statistics, or related degree\\n\\nBenefits & Perks:\\n\\nCompetitive salaries and bonus programs\\nHealth Insurance\\nPension Plan, with company contributions\\nCommuter benefits\\nWellness initiatives (incentive programs, fitness classes)\\nCatered meals, endless snacks and drinks\\nWeekly happy hours\\nCasual dress code\\nEmployee development opportunities\\n\\nPlease visit How Indeed Works to learn more: http://www.indeed.jobs\\n\\n5 days ago  - save job\\n - \\n                original job\\n\\n\\n\\n\\n\\n\\n\\n\\n\\n\\xbb Apply Now\\n\\n            Please review all application instructions before applying to Indeed.\\n\\n\\n\\n\\n\\n\\nRecommended Jobs\\n\\nData Scientist - Gaming Industry\\n\\nORCAWISE -\\n\\t\\t Dublin\\nIndeed\\xa0-\\xa024 days ago\\n\\n Apply with your Indeed CV\\n\\nAssociate Quantitative Analyst, R&D - Dublin\\n\\nFINCAD -\\n\\t\\t Dublin\\nFINCAD\\xa0-\\xa08 days ago\\n\\n\\n\\n\\n \\n\\n\\n\\n\\n\\xbb Apply Now\\n\\n            Please review all application instructions before applying to Indeed.\\n\\n\\n\\n\\n\\n\\n\\n\\n\\n\\nAbout this company\\n\\n\\n                        Indeed\\n\\n\\n107 reviews\\n\\n                Indeed is the #1 job site worldwide, with over 180 million unique visitors per month from more than 50 countries in 28 languages. Job...\\n\\n\\n\\n\\n\\n\\n\\n\\n\\n\\n\\n\\n\\n\\n\\nBrowse Jobs - API - About - Help Centre\\n\\n\\n\\n\\n                Cookies help us deliver our services. By using our services, you agree to our use of cookies.\\nLearn more\\xa0\\xb7\\xa0OK\\n\\n\\n\\n\\n\\xa92016 Indeed - Cookies, Privacy and Terms\\n\\n\\n\\n\\n\\n\\n\\n\\n\\n\\n\\n\\n'"
      ]
     },
     "execution_count": 67,
     "metadata": {},
     "output_type": "execute_result"
    }
   ],
   "source": [
    "text = soup_obj.get_text() # Get the text from this\n",
    "text"
   ]
  },
  {
   "cell_type": "code",
   "execution_count": 63,
   "metadata": {
    "collapsed": false
   },
   "outputs": [],
   "source": [
    "lines = (line.strip() for line in text.splitlines()) # break into lines\n",
    "chunks = (phrase.strip() for line in lines for phrase in line.split(\"  \")) # break multi-headlines into a line each\n",
    "text = ''.join(chunk for chunk in chunks if chunk).encode('utf-8') # Get rid of all blank lines and ends of line\n",
    "text = text.decode('unicode_escape').encode('ascii', 'ignore') # Need this as some websites aren't formatted\n",
    "text = re.sub(\"[^a-zA-Z+3]\",\" \", text)  # Now get rid of any terms that aren't words (include 3 for d3.js)\n",
    "text = re.sub(r\"([a-z])([A-Z])\", r\"\\1 \\2\", text) # Fix spacing issue from merged words\n",
    "text = text.lower().split()  # Go to lower case and split them apart\n",
    "stop_words = set(stopwords.words(\"english\")) # Filter out any stop words\n",
    "text = [w for w in text if not w in stop_words]\n",
    "text = list(set(text)) # Last, just get the set of these. Ignore counts (we are just looking at whether a term existed\n"
   ]
  },
  {
   "cell_type": "code",
   "execution_count": 80,
   "metadata": {
    "collapsed": false
   },
   "outputs": [
    {
     "name": "stdout",
     "output_type": "stream",
     "text": [
      "<type 'generator'>\n"
     ]
    }
   ],
   "source": [
    "lines = (line.strip() for line in text.splitlines()) # break into lines \n",
    "print(type(lines))\n",
    "\n",
    "#for i in lines:\n",
    " #   print i"
   ]
  },
  {
   "cell_type": "code",
   "execution_count": 81,
   "metadata": {
    "collapsed": false
   },
   "outputs": [
    {
     "name": "stdout",
     "output_type": "stream",
     "text": [
      "<type 'generator'>\n"
     ]
    }
   ],
   "source": [
    "chunks = (phrase.strip() for line in lines for phrase in line.split(\"  \")) # break multi-headlines into a line each not sure this does anything\n",
    "print(type(chunks))\n",
    "\n",
    "#for c in chunks:\n",
    " #   print c"
   ]
  },
  {
   "cell_type": "code",
   "execution_count": 82,
   "metadata": {
    "collapsed": false
   },
   "outputs": [
    {
     "name": "stdout",
     "output_type": "stream",
     "text": [
      "<type 'str'>\n"
     ]
    },
    {
     "data": {
      "text/plain": [
       "'Quantitative Analyst job - Indeed - Dublin | Indeed.comFind JobsFind CVsEmployers / Post JobSubmit your CVSign inWhat:Where:Advanced Job Searchjob title, keywords or companycity or countyQuantitative AnalystIndeed107 reviews-DublinHow Indeed works.Indeed works when talented, passionate people come together to get a job done.Come help Indeed work. We are looking to grow our teams with people who share our energy and enthusiasm for creating the best experience for job seekers.How a Quantitative Analyst works.Indeed is looking for a passionate and inquisitive Quantitative Analyst who will lead data driven Marketing efforts in our Dublin office. As Quantitative Analyst, you will be part of our Marketing Sciences team, our most technically skilled branch of Marketing. We, in Marketing Sciences, are passionate about using data to drive intelligent marketing decisions and innovations for our global marketing team.Ideally, you will have had significant experience with ad-hoc data analysis and the constantly changing constraints that analysis work provides.To be successful in this role, you must have strong math and analytical skills, as well has experience with SQL and a scripting language.How to apply:We value attention to detail. Applications that fail to follow these simple steps will not be considered. In your cover letter: Pitch an idea around Indeed\\xe2\\x80\\x99s data that you would like to deliver within your first month of being here. Read some historical Indeed data blog posts (blog.indeed.com) and choose one to comment on. What did you like? What would you do better? Where would you focus more?ResponsibilitiesAnalyze indeed\\xe2\\x80\\x99s data to understand underlying business trends such as churn, upsell, traffic acquisition, and many other critical metrics Lead data driven marketing efforts, across many different Marketing teams (PR, Demand Generation, Campaign Labs, and more!) Design statistically sound methodologies around pulling and aggregating data from internal and external data sources Write scripts to automate data processing and other recurring tasks Learn and love Indeed\\xe2\\x80\\x99s data (we have a lot of it). Understand and manipulate Indeed\\xe2\\x80\\x99s data - providing simple solutions to complex problems Add to the team\\xe2\\x80\\x99s infrastructure of algorithms, automation, data mining & quantitative business analyticsRequirements:2-5 years experience with Python or R, and SQL Experience with charting, graphing, or other visualization tools You have passions and interests outside of work - you are not just your job Experience with statistical modeling and machine learning is very nice to have Math, Economics, Physics, Statistics, or related degreeBenefits & Perks:Competitive salaries and bonus programsHealth InsurancePension Plan, with company contributionsCommuter benefitsWellness initiatives (incentive programs, fitness classes)Catered meals, endless snacks and drinksWeekly happy hoursCasual dress codeEmployee development opportunitiesPlease visit How Indeed Works to learn more: http://www.indeed.jobs5 days ago- save job-original job\\xc2\\xbb Apply NowPlease review all application instructions before applying to Indeed.Recommended JobsData Scientist - Gaming IndustryORCAWISE -DublinIndeed\\xc2\\xa0-\\xc2\\xa024 days agoApply with your Indeed CVAssociate Quantitative Analyst, R&D - DublinFINCAD -DublinFINCAD\\xc2\\xa0-\\xc2\\xa08 days ago\\xc2\\xbb Apply NowPlease review all application instructions before applying to Indeed.About this companyIndeed107 reviewsIndeed is the #1 job site worldwide, with over 180 million unique visitors per month from more than 50 countries in 28 languages. Job...Browse Jobs - API - About - Help CentreCookies help us deliver our services. By using our services, you agree to our use of cookies.Learn more\\xc2\\xa0\\xc2\\xb7\\xc2\\xa0OK\\xc2\\xa92016 Indeed - Cookies, Privacy and Terms'"
      ]
     },
     "execution_count": 82,
     "metadata": {},
     "output_type": "execute_result"
    }
   ],
   "source": [
    "text2 = ''.join(chunk for chunk in chunks if chunk).encode('utf-8') # Get rid of all blank lines and ends of line\n",
    "print(type(text2)) # str\n",
    "\n",
    "text2 #concatenates into a long string does it loes some of its falvour? Improve the chunking part? losing some of the encoding "
   ]
  },
  {
   "cell_type": "code",
   "execution_count": null,
   "metadata": {
    "collapsed": true
   },
   "outputs": [],
   "source": []
  },
  {
   "cell_type": "code",
   "execution_count": 51,
   "metadata": {
    "collapsed": false
   },
   "outputs": [
    {
     "data": {
      "text/plain": [
       "0"
      ]
     },
     "execution_count": 51,
     "metadata": {},
     "output_type": "execute_result"
    }
   ],
   "source": [
    "len(text)"
   ]
  },
  {
   "cell_type": "code",
   "execution_count": 53,
   "metadata": {
    "collapsed": false
   },
   "outputs": [
    {
     "data": {
      "text/plain": [
       "''"
      ]
     },
     "execution_count": 53,
     "metadata": {},
     "output_type": "execute_result"
    }
   ],
   "source": [
    "text"
   ]
  },
  {
   "cell_type": "code",
   "execution_count": 7,
   "metadata": {
    "collapsed": true
   },
   "outputs": [],
   "source": [
    "def text_cleaner(website):\n",
    "    '''\n",
    "    This function just cleans up the raw html so that I can look at it.\n",
    "    Inputs: a URL to investigate\n",
    "    Outputs: Cleaned text only\n",
    "    '''\n",
    "    try:\n",
    "        site = urllib2.urlopen(website).read() # Connect to the job posting\n",
    "    except: \n",
    "        return   # Need this in case the website isn't there anymore or some other weird connection problem \n",
    "    \n",
    "    soup_obj = BeautifulSoup(site) # Get the html from the site\n",
    "    \n",
    "    if len(soup_obj) == 0: # In case the default parser lxml doesn't work, try another one\n",
    "        soup_obj = BeautifulSoup(site, 'html5lib')\n",
    "    \n",
    "    \n",
    "    for script in soup_obj([\"script\", \"style\"]):\n",
    "        script.extract() # Remove these two elements from the BS4 object\n",
    "    \n",
    "    \n",
    "\n",
    "    text = soup_obj.get_text() # Get the text from this\n",
    "\n",
    "    \n",
    "\n",
    "    lines = (line.strip() for line in text.splitlines()) # break into lines\n",
    "\n",
    "    \n",
    "    \n",
    "    chunks = (phrase.strip() for line in lines for phrase in line.split(\"  \")) # break multi-headlines into a line each\n",
    "    \n",
    "\n",
    "    text = ''.join(chunk for chunk in chunks if chunk).encode('utf-8') # Get rid of all blank lines and ends of line\n",
    "    \n",
    "    # Now clean out all of the unicode junk (this line works great!!!)\n",
    "    \n",
    "    try:\n",
    "        text = text.decode('unicode_escape').encode('ascii', 'ignore') # Need this as some websites aren't formatted\n",
    "    except:                                                            # in a way that this works, can occasionally throw\n",
    "        return                                                         # an exception\n",
    "   \n",
    "    \n",
    "    text = re.sub(\"[^a-zA-Z+3]\",\" \", text)  # Now get rid of any terms that aren't words (include 3 for d3.js)\n",
    "                                             # Also include + for C++\n",
    "    text = re.sub(r\"([a-z])([A-Z])\", r\"\\1 \\2\", text) # Fix spacing issue from merged words\n",
    "    \n",
    "    text = text.lower().split()  # Go to lower case and split them apart\n",
    "    \n",
    "    \n",
    "    stop_words = set(stopwords.words(\"english\")) # Filter out any stop words\n",
    "    text = [w for w in text if not w in stop_words]\n",
    "    \n",
    "    \n",
    "    \n",
    "    text = list(set(text)) # Last, just get the set of these. Ignore counts (we are just looking at whether a term existed\n",
    "                           # or not on the website)\n",
    "    \n",
    "    return text"
   ]
  },
  {
   "cell_type": "code",
   "execution_count": 8,
   "metadata": {
    "collapsed": false
   },
   "outputs": [
    {
     "data": {
      "text/plain": [
       "['code',\n",
       " 'cvassociate',\n",
       " 'help',\n",
       " 'office',\n",
       " 'aggregating',\n",
       " 'indeed',\n",
       " 'global',\n",
       " 'focus',\n",
       " 'competitive',\n",
       " 'month',\n",
       " 'sources',\n",
       " 'underlying',\n",
       " 'graphing',\n",
       " 'solutions',\n",
       " 'statistical',\n",
       " 'pitch',\n",
       " 'keywords',\n",
       " 'follow',\n",
       " 'decisions',\n",
       " 'find']"
      ]
     },
     "execution_count": 8,
     "metadata": {},
     "output_type": "execute_result"
    }
   ],
   "source": [
    "sample = text_cleaner('http://ie.indeed.com/viewjob?jk=e7039bc2bd730831&q=Quantitative+Analyst&l=Dublin&tk=1a9v7oq3b9p3n94o&from=web')\n",
    "    \n",
    "sample[:20]    "
   ]
  },
  {
   "cell_type": "code",
   "execution_count": 9,
   "metadata": {
    "collapsed": true
   },
   "outputs": [],
   "source": [
    "def skills_info(city = None, state = None):\n",
    "    '''\n",
    "    This function will take a desired city/state and look for all new job postings\n",
    "    on Indeed.com. It will crawl all of the job postings and keep track of how many\n",
    "    use a preset list of typical data science skills. The final percentage for each skill\n",
    "    is then displayed at the end of the collation. \n",
    "\n",
    "    Inputs: The location's city and state. These are optional. If no city/state is input, \n",
    "    the function will assume a national search (this can take a while!!!).\n",
    "    Input the city/state as strings, such as skills_info('Chicago', 'IL').\n",
    "    Use a two letter abbreviation for the state.\n",
    "\n",
    "    Output: A bar chart showing the most commonly desired skills in the job market for \n",
    "    a data scientist. \n",
    "    '''\n",
    "\n",
    "    final_job = 'data+scientist' # searching for data scientist exact fit(\"data scientist\" on Indeed search)\n",
    "\n",
    "    # Make sure the city specified works properly if it has more than one word (such as San Francisco)\n",
    "    if city is not None:\n",
    "        final_city = city.split() \n",
    "        final_city = '+'.join(word for word in final_city)\n",
    "        final_site_list = ['http://www.indeed.com/jobs?q=%22', final_job, '%22&l=', final_city,\n",
    "                    '%2C+', state] # Join all of our strings together so that indeed will search correctly\n",
    "    else:\n",
    "        final_site_list = ['http://www.indeed.com/jobs?q=\"', final_job, '\"']\n",
    "\n",
    "    final_site = ''.join(final_site_list) # Merge the html address together into one string\n",
    "\n",
    "\n",
    "    base_url = 'http://www.indeed.com'\n",
    "\n",
    "\n",
    "    try:\n",
    "        html = urllib2.urlopen(final_site).read() # Open up the front page of our search first\n",
    "    except:\n",
    "        'That city/state combination did not have any jobs. Exiting . . .' # In case the city is invalid\n",
    "        return\n",
    "    soup = BeautifulSoup(html) # Get the html from the first page\n",
    "\n",
    "    # Now find out how many jobs there were\n",
    "\n",
    "    num_jobs_area = soup.find(id = 'searchCount').string.encode('utf-8') # Now extract the total number of jobs found\n",
    "                                                                        # The 'searchCount' object has this\n",
    "\n",
    "    job_numbers = re.findall('\\d+', num_jobs_area) # Extract the total jobs found from the search result\n",
    "\n",
    "\n",
    "    if len(job_numbers) > 3: # Have a total number of jobs greater than 1000\n",
    "        total_num_jobs = (int(job_numbers[2])*1000) + int(job_numbers[3])\n",
    "    else:\n",
    "        total_num_jobs = int(job_numbers[2]) \n",
    "\n",
    "    city_title = city\n",
    "    if city is None:\n",
    "        city_title = 'Nationwide'\n",
    "\n",
    "    print 'There were', total_num_jobs, 'jobs found,', city_title # Display how many jobs were found\n",
    "\n",
    "    num_pages = total_num_jobs/10 # This will be how we know the number of times we need to iterate over each new\n",
    "                                      # search result page\n",
    "    job_descriptions = [] # Store all our descriptions in this list\n",
    "\n",
    "    for i in xrange(1,num_pages+1): # Loop through all of our search result pages\n",
    "        print 'Getting page', i\n",
    "        start_num = str(i*10) # Assign the multiplier of 10 to view the pages we want\n",
    "        current_page = ''.join([final_site, '&start=', start_num])\n",
    "        # Now that we can view the correct 10 job returns, start collecting the text samples from each\n",
    "\n",
    "        html_page = urllib2.urlopen(current_page).read() # Get the page\n",
    "\n",
    "        page_obj = BeautifulSoup(html_page) # Locate all of the job links\n",
    "        job_link_area = page_obj.find(id = 'resultsCol') # The center column on the page where the job postings exist\n",
    "\n",
    "        job_URLS = [base_url + link.get('href') for link in job_link_area.find_all('a')] # Get the URLS for the jobs\n",
    "\n",
    "        job_URLS = filter(lambda x:'clk' in x, job_URLS) # Now get just the job related URLS\n",
    "\n",
    "\n",
    "        for j in xrange(0,len(job_URLS)):\n",
    "            final_description = text_cleaner(job_URLS[j])\n",
    "            if final_description: # So that we only append when the website was accessed correctly\n",
    "                job_descriptions.append(final_description)\n",
    "            sleep(1) # So that we don't be jerks. If you have a very fast internet connection you could hit the server a lot! \n",
    "\n",
    "    print 'Done with collecting the job postings!'    \n",
    "    print 'There were', len(job_descriptions), 'jobs successfully found.'\n",
    "\n",
    "\n",
    "    doc_frequency = Counter() # This will create a full counter of our terms. \n",
    "    [doc_frequency.update(item) for item in job_descriptions] # List comp\n",
    "\n",
    "    # Now we can just look at our final dict list inside doc_frequency\n",
    "\n",
    "    # Obtain our key terms and store them in a dict. These are the key data science skills we are looking for\n",
    "\n",
    "    prog_lang_dict = Counter({'R':doc_frequency['r'], 'Python':doc_frequency['python'],\n",
    "                    'Java':doc_frequency['java'], 'C++':doc_frequency['c++'],\n",
    "                    'Ruby':doc_frequency['ruby'],\n",
    "                    'Perl':doc_frequency['perl'], 'Matlab':doc_frequency['matlab'],\n",
    "                    'JavaScript':doc_frequency['javascript'], 'Scala': doc_frequency['scala']})\n",
    "\n",
    "    analysis_tool_dict = Counter({'Excel':doc_frequency['excel'],  'Tableau':doc_frequency['tableau'],\n",
    "                        'D3.js':doc_frequency['d3.js'], 'SAS':doc_frequency['sas'],\n",
    "                        'SPSS':doc_frequency['spss'], 'D3':doc_frequency['d3']})  \n",
    "\n",
    "    hadoop_dict = Counter({'Hadoop':doc_frequency['hadoop'], 'MapReduce':doc_frequency['mapreduce'],\n",
    "                'Spark':doc_frequency['spark'], 'Pig':doc_frequency['pig'],\n",
    "                'Hive':doc_frequency['hive'], 'Shark':doc_frequency['shark'],\n",
    "                'Oozie':doc_frequency['oozie'], 'ZooKeeper':doc_frequency['zookeeper'],\n",
    "                'Flume':doc_frequency['flume'], 'Mahout':doc_frequency['mahout']})\n",
    "\n",
    "    database_dict = Counter({'SQL':doc_frequency['sql'], 'NoSQL':doc_frequency['nosql'],\n",
    "                    'HBase':doc_frequency['hbase'], 'Cassandra':doc_frequency['cassandra'],\n",
    "                    'MongoDB':doc_frequency['mongodb']})\n",
    "\n",
    "\n",
    "    overall_total_skills = prog_lang_dict + analysis_tool_dict + hadoop_dict + database_dict # Combine our Counter objects\n",
    "\n",
    "\n",
    "\n",
    "    final_frame = pd.DataFrame(overall_total_skills.items(), columns = ['Term', 'NumPostings']) # Convert these terms to a \n",
    "                                                                                                # dataframe \n",
    "\n",
    "    # Change the values to reflect a percentage of the postings \n",
    "\n",
    "    final_frame.NumPostings = (final_frame.NumPostings)*100/len(job_descriptions) # Gives percentage of job postings \n",
    "                                                                                    #  having that term \n",
    "\n",
    "    # Sort the data for plotting purposes\n",
    "\n",
    "    final_frame.sort(columns = 'NumPostings', ascending = False, inplace = True)\n",
    "\n",
    "    # Get it ready for a bar plot\n",
    "\n",
    "    final_plot = final_frame.plot(x = 'Term', kind = 'bar', legend = None, \n",
    "                            title = 'Percentage of Data Scientist Job Ads with a Key Skill, ' + city_title)\n",
    "\n",
    "    final_plot.set_ylabel('Percentage Appearing in Job Ads')\n",
    "    fig = final_plot.get_figure() # Have to convert the pandas plot object to a matplotlib object\n",
    "\n",
    "\n",
    "    return fig, final_frame # End of the function"
   ]
  },
  {
   "cell_type": "code",
   "execution_count": 10,
   "metadata": {
    "collapsed": false
   },
   "outputs": [
    {
     "name": "stdout",
     "output_type": "stream",
     "text": [
      "There were 184 jobs found, Seattle\n",
      "Getting page 1\n",
      "Getting page 2\n",
      "Getting page 3\n",
      "Getting page 4\n",
      "Getting page 5\n",
      "Getting page 6\n",
      "Getting page 7\n",
      "Getting page 8\n",
      "Getting page 9\n",
      "Getting page 10\n",
      "Getting page 11\n",
      "Getting page 12\n",
      "Getting page 13\n",
      "Getting page 14\n",
      "Getting page 15\n",
      "Getting page 16\n",
      "Getting page 17\n",
      "Getting page 18\n",
      "Done with collecting the job postings!\n",
      "There were 114 jobs successfully found.\n"
     ]
    },
    {
     "name": "stderr",
     "output_type": "stream",
     "text": [
      "C:\\Users\\IBM_ADMIN\\Anaconda\\lib\\site-packages\\ipykernel\\__main__.py:132: FutureWarning: sort(columns=....) is deprecated, use sort_values(by=.....)\n"
     ]
    },
    {
     "data": {
      "image/png": "[encoded data removed]",
      "text/plain": [
       "<matplotlib.figure.Figure at 0x20cf0080>"
      ]
     },
     "metadata": {},
     "output_type": "display_data"
    }
   ],
   "source": [
    "seattle_info = skills_info(city = 'Seattle', state = 'WA') "
   ]
  },
  {
   "cell_type": "code",
   "execution_count": null,
   "metadata": {
    "collapsed": true
   },
   "outputs": [],
   "source": []
  }
 ],
 "metadata": {
  "kernelspec": {
   "display_name": "Python 2",
   "language": "python",
   "name": "python2"
  },
  "language_info": {
   "codemirror_mode": {
    "name": "ipython",
    "version": 2
   },
   "file_extension": ".py",
   "mimetype": "text/x-python",
   "name": "python",
   "nbconvert_exporter": "python",
   "pygments_lexer": "ipython2",
   "version": "2.7.10"
  }
 },
 "nbformat": 4,
 "nbformat_minor": 0
}
