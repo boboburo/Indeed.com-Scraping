{
 "cells": [
  {
   "cell_type": "markdown",
   "metadata": {},
   "source": [
    "## 1.1 Connect and Setup MongoDB\n",
    "\n",
    "Create the connection to the mongo database. If successful connected then create a database pillreport_ddmmyy. If this database exists delete it and create again. Define two collections in the database reports and comments."
   ]
  },
  {
   "cell_type": "code",
   "execution_count": 1,
   "metadata": {
    "collapsed": true
   },
   "outputs": [],
   "source": [
    "import time\n",
    "import pymongo\n",
    "\n",
    "def mong_database_setup():\n",
    "    database_names={}\n",
    "    \n",
    "    # Try to connect to MongoDB,  exit if not successful.\n",
    "    try:\n",
    "        conn=pymongo.MongoClient()\n",
    "        print \"Connected successfully!!!\"\n",
    "        \n",
    "    except pymongo.errors.ConnectionFailure, e:\n",
    "       print \"Could not connect to MongoDB: %s\" % e \n",
    "\n",
    "\n",
    "    #Use todays date for the database name:\n",
    "    name='indeed'+time.strftime(\"%d%b%y\")\n",
    "\n",
    "    if name in conn.database_names():\n",
    "        conn.drop_database(name) #Drop the database if it exists\n",
    "        db = conn[name] #Create the database\n",
    "        \n",
    "        #Create two collections in the database\n",
    "        scrapes = db.scrapes\n",
    "           \n",
    "    else:\n",
    "        db = conn[name] #Create the database\n",
    "        #Create two collections in the database\n",
    "        scrapes = db.scrapes\n",
    "        \n",
    "   \n",
    "    #return the connection, database name, collections names.     \n",
    "    return conn,db,scrapes:"
   ]
  },
  {
   "cell_type": "markdown",
   "metadata": {},
   "source": [
    "## 1.2 Scrape links\n",
    "\n",
    "Using the urllib2 library; open and read a web page. Pass web page to BeautifulSoup library. Parse and extract all tables. If there are not 3 tables in the webpage return. Otherwise return the parsed webpage."
   ]
  },
  {
   "cell_type": "code",
   "execution_count": 70,
   "metadata": {
    "collapsed": false
   },
   "outputs": [],
   "source": [
    "city = \"dublin\"\n",
    "final_job = 'data'\n",
    "state=\"\""
   ]
  },
  {
   "cell_type": "code",
   "execution_count": 71,
   "metadata": {
    "collapsed": false
   },
   "outputs": [],
   "source": [
    "if city is not None:\n",
    "    final_city=city.split()\n",
    "    final_city = '+'.join(word for word in final_city)\n",
    "    final_site_list = ['http://ie.indeed.com/jobs?q=', final_job, '&l=', final_city]"
   ]
  },
  {
   "cell_type": "code",
   "execution_count": 72,
   "metadata": {
    "collapsed": false
   },
   "outputs": [
    {
     "data": {
      "text/plain": [
       "'dublin'"
      ]
     },
     "execution_count": 72,
     "metadata": {},
     "output_type": "execute_result"
    }
   ],
   "source": [
    "final_city"
   ]
  },
  {
   "cell_type": "code",
   "execution_count": 73,
   "metadata": {
    "collapsed": false
   },
   "outputs": [
    {
     "data": {
      "text/plain": [
       "['http://ie.indeed.com/jobs?q=', 'data', '&l=', 'dublin']"
      ]
     },
     "execution_count": 73,
     "metadata": {},
     "output_type": "execute_result"
    }
   ],
   "source": [
    "final_site_list\n"
   ]
  },
  {
   "cell_type": "code",
   "execution_count": 74,
   "metadata": {
    "collapsed": true
   },
   "outputs": [],
   "source": [
    "final_site=\"\".join(final_site_list)"
   ]
  },
  {
   "cell_type": "code",
   "execution_count": 75,
   "metadata": {
    "collapsed": false
   },
   "outputs": [
    {
     "data": {
      "text/plain": [
       "'http://ie.indeed.com/jobs?q=data&l=dublin'"
      ]
     },
     "execution_count": 75,
     "metadata": {},
     "output_type": "execute_result"
    }
   ],
   "source": [
    "final_site"
   ]
  },
  {
   "cell_type": "code",
   "execution_count": 76,
   "metadata": {
    "collapsed": false
   },
   "outputs": [],
   "source": [
    "from bs4 import BeautifulSoup # For HTML parsing\n",
    "import urllib2 # Website connections\n",
    "import re # Reg\n",
    "\n",
    "html = urllib2.urlopen(final_site).read() #"
   ]
  },
  {
   "cell_type": "code",
   "execution_count": 78,
   "metadata": {
    "collapsed": false
   },
   "outputs": [],
   "source": [
    "soup=BeautifulSoup(html)"
   ]
  },
  {
   "cell_type": "code",
   "execution_count": 205,
   "metadata": {
    "collapsed": true
   },
   "outputs": [],
   "source": [
    "#There is a named div that has the number of jobs. Extract this and then pull out all the numbers.\n",
    "#This results in list [1,10,122] - \"Jobs 1 to 10 of 122\"\n",
    "\n",
    "numReturnedJobs = soup.find(id = 'searchCount').get_text()#string#.encode('utf-8') #unicode\n",
    "numReturnedJobs = numReturnedJobs.replace(\",\",\"\") #removing any trailing commas for the thousands and extract the numbers\n",
    "\n",
    "#replace the comma with blank\n",
    "jobNumbers = re.findall('\\d+', numReturnedJobs.encode('utf-8'))\n",
    "\n",
    "\n",
    "#numReturnedJobs2 = soup.find(id = 'searchCount').string.encode('utf-8') #str"
   ]
  },
  {
   "cell_type": "code",
   "execution_count": 206,
   "metadata": {
    "collapsed": false
   },
   "outputs": [
    {
     "name": "stdout",
     "output_type": "stream",
     "text": [
      "<type 'str'>\n",
      "<type 'str'>\n",
      "<type 'str'>\n"
     ]
    }
   ],
   "source": [
    "for i in jobNumbers:\n",
    "    print type(i)"
   ]
  },
  {
   "cell_type": "code",
   "execution_count": 207,
   "metadata": {
    "collapsed": true
   },
   "outputs": [],
   "source": [
    " base_url = 'http://www.indeed.com'"
   ]
  },
  {
   "cell_type": "code",
   "execution_count": 267,
   "metadata": {
    "collapsed": false
   },
   "outputs": [
    {
     "name": "stdout",
     "output_type": "stream",
     "text": [
      "http://ie.indeed.com/jobs?q=data&l=dublin&start=100\n",
      "9\n",
      "9\n",
      "9\n",
      "9\n",
      "12\n",
      "9\n",
      "9\n",
      "9\n",
      "9\n",
      "9\n",
      "1\n",
      "<type 'list'>\n",
      "[[]]\n"
     ]
    }
   ],
   "source": [
    "for i in xrange(10,int(jobNumbers[1])+1):\n",
    "       \n",
    "    startPage = str(i*10)\n",
    "    currentPage = ''.join([final_site,'&start=',startPage])\n",
    "    \n",
    "    print currentPage\n",
    "    html = urllib2.urlopen(currentPage).read() # Get the page\n",
    "    resultsObj=BeautifulSoup(html)\n",
    "    \n",
    "    \n",
    "    \n",
    "    #job_link_area = resultsObj.find(id = 'resultsCol')\n",
    "    #jobstest = resultsObj.find(data-tn-component = 'organicjob')\n",
    "    #job_URLS = [base_url + link.get('href') for link in job_link_area.find_all('a')] # Get the URLS for the jobs\n",
    "    #job_URLS = [base_url + link.get('href') for link in job_link_area.find(data-tn-component = 'organicJob')]\n",
    "    #print len(job_URLS)\n",
    "    \n",
    "    #job_URLS2 = filter(lambda x:'clk' in x, job_URLS)\n",
    "    #print len(job_URLS2)\n",
    "    \n",
    "    #for link in resultsObj.findAll('a',href=TRUE,\"\"='organicJob'):\n",
    "     #   print link['hfref']\n",
    "    \n",
    "    for jobDiv in resultsObj.find_all('div',attrs={\"data-tn-component\" : \"organicJob\"}):\n",
    "        print len(jobDiv)\n",
    "    \n",
    "    #    for link in jobDiv.find_all('a'):\n",
    "     #       print(link.get('href'))\n",
    "    \n",
    "    #create lists\n",
    "#              resultsObj.find_all('div',attrs={\"data-tn-component\" : \"organicJob\"}):\n",
    "    jobDivList = [resultsObj.find_all('div',attrs={\"data-tn-comonenet\" : \"organicJob\"})]\n",
    "    #jobUrls = [link ]\n",
    "    print len(jobDivList)\n",
    "    print type(jobDivList)\n",
    "    print jobDivList\n",
    "    "
   ]
  },
  {
   "cell_type": "code",
   "execution_count": 278,
   "metadata": {
    "collapsed": false
   },
   "outputs": [],
   "source": [
    "temp1 = [r for r in resultsObj.find_all('div',attrs={\"data-tn-component\" : \"organicJob\"})]"
   ]
  },
  {
   "cell_type": "code",
   "execution_count": 290,
   "metadata": {
    "collapsed": false
   },
   "outputs": [
    {
     "ename": "AttributeError",
     "evalue": "'ResultSet' object has no attribute 'get'",
     "output_type": "error",
     "traceback": [
      "\u001b[1;31m---------------------------------------------------------------------------\u001b[0m",
      "\u001b[1;31mAttributeError\u001b[0m                            Traceback (most recent call last)",
      "\u001b[1;32m<ipython-input-290-ef1ecc8795b2>\u001b[0m in \u001b[0;36m<module>\u001b[1;34m()\u001b[0m\n\u001b[1;32m----> 1\u001b[1;33m \u001b[0mtemp2\u001b[0m \u001b[1;33m=\u001b[0m \u001b[1;33m[\u001b[0m\u001b[1;33m(\u001b[0m\u001b[0mr\u001b[0m\u001b[1;33m.\u001b[0m\u001b[0mfind_all\u001b[0m\u001b[1;33m(\u001b[0m\u001b[1;34m'a'\u001b[0m\u001b[1;33m)\u001b[0m\u001b[1;33m)\u001b[0m\u001b[1;33m.\u001b[0m\u001b[0mget\u001b[0m\u001b[1;33m(\u001b[0m\u001b[1;34m'href'\u001b[0m\u001b[1;33m)\u001b[0m \u001b[1;32mfor\u001b[0m \u001b[0mr\u001b[0m \u001b[1;32min\u001b[0m \u001b[0mtemp1\u001b[0m\u001b[1;33m]\u001b[0m\u001b[1;33m\u001b[0m\u001b[0m\n\u001b[0m",
      "\u001b[1;31mAttributeError\u001b[0m: 'ResultSet' object has no attribute 'get'"
     ]
    }
   ],
   "source": [
    "temp2 = [(r.find_all('a')).get('href') for r in temp1]"
   ]
  },
  {
   "cell_type": "code",
   "execution_count": 288,
   "metadata": {
    "collapsed": false
   },
   "outputs": [
    {
     "data": {
      "text/plain": [
       "[[<a class=\"turnstileLink\" data-tn-element=\"jobTitle\" href=\"/rc/clk?jk=efd4717a44c67c87\" itemprop=\"title\" onclick=\"return rclk(this,jobmap[0],true,0);\" onmousedown=\"return rclk(this,jobmap[0],0);\" rel=\"nofollow\" target=\"_blank\" title=\"Data Analyst\"><b>Data</b> Analyst</a>,\n",
       "  <a class=\"sl resultLink save-job-link\" href=\"#\" id=\"sj_efd4717a44c67c87\" onclick=\"changeJobState('efd4717a44c67c87', 'save', 'linkbar', false);return false;\" title=\"Save this job to my.indeed\">save job</a>,\n",
       "  <a class=\"sl resultLink tellafriend-link \" href=\"mailto:?subject=I found this job on Indeed&amp;body=http://ie.indeed.com\" onclick=\"toggleTellAFriend('efd4717a44c67c87', 0, false); return false;\">email</a>,\n",
       "  <a class=\"sl resultLink more-link \" href=\"#\" id=\"tog_0\" onclick=\"toggleMoreLinks('efd4717a44c67c87'); return false;\">more...</a>,\n",
       "  <a class=\"close-link closeLink\" href=\"#\" onclick=\"toggleMoreLinks('efd4717a44c67c87'); return false;\" title=\"Close\"></a>,\n",
       "  <a href=\"/Fk-International-jobs\" rel=\"nofollow\">FK International jobs</a>,\n",
       "  <a href=\"/jobs-in-Dublin\">Dublin jobs</a>],\n",
       " [<a class=\"turnstileLink\" data-tn-element=\"jobTitle\" href=\"/rc/clk?jk=a38614aec26e683c\" itemprop=\"title\" onclick=\"return rclk(this,jobmap[1],true,0);\" onmousedown=\"return rclk(this,jobmap[1],0);\" rel=\"nofollow\" target=\"_blank\" title=\"Datacomms Installer\">Datacomms Installer</a>,\n",
       "  <a class=\"sl resultLink save-job-link\" href=\"#\" id=\"sj_a38614aec26e683c\" onclick=\"changeJobState('a38614aec26e683c', 'save', 'linkbar', false);return false;\" title=\"Save this job to my.indeed\">save job</a>,\n",
       "  <a class=\"sl resultLink tellafriend-link \" href=\"mailto:?subject=I found this job on Indeed&amp;body=http://ie.indeed.com\" onclick=\"toggleTellAFriend('a38614aec26e683c', 1, false); return false;\">email</a>,\n",
       "  <a class=\"sl resultLink more-link \" href=\"#\" id=\"tog_1\" onclick=\"toggleMoreLinks('a38614aec26e683c'); return false;\">more...</a>,\n",
       "  <a class=\"close-link closeLink\" href=\"#\" onclick=\"toggleMoreLinks('a38614aec26e683c'); return false;\" title=\"Close\"></a>,\n",
       "  <a href=\"/Dc-Coms-jobs\" rel=\"nofollow\">DC Coms jobs</a>,\n",
       "  <a href=\"/jobs-in-Dublin\">Dublin jobs</a>],\n",
       " [<a class=\"turnstileLink\" data-tn-element=\"jobTitle\" href=\"/rc/clk?jk=a9df79f5ced6e930\" itemprop=\"title\" onclick=\"return rclk(this,jobmap[2],true,0);\" onmousedown=\"return rclk(this,jobmap[2],0);\" rel=\"nofollow\" target=\"_blank\" title=\"Data Entry Administrators\"><b>Data</b> Entry Administrators</a>,\n",
       "  <a class=\"sl resultLink save-job-link\" href=\"#\" id=\"sj_a9df79f5ced6e930\" onclick=\"changeJobState('a9df79f5ced6e930', 'save', 'linkbar', false);return false;\" title=\"Save this job to my.indeed\">save job</a>,\n",
       "  <a class=\"sl resultLink tellafriend-link \" href=\"mailto:?subject=I found this job on Indeed&amp;body=http://ie.indeed.com\" onclick=\"toggleTellAFriend('a9df79f5ced6e930', 2, false); return false;\">email</a>,\n",
       "  <a class=\"sl resultLink more-link \" href=\"#\" id=\"tog_2\" onclick=\"toggleMoreLinks('a9df79f5ced6e930'); return false;\">more...</a>,\n",
       "  <a class=\"close-link closeLink\" href=\"#\" onclick=\"toggleMoreLinks('a9df79f5ced6e930'); return false;\" title=\"Close\"></a>,\n",
       "  <a href=\"/Lex-Consultancy-jobs\" rel=\"nofollow\">Lex Consultancy jobs</a>,\n",
       "  <a href=\"/jobs-in-Dublin\">Dublin jobs</a>,\n",
       "  <a href=\"/cmp/Lex-Consultancy?jk=a9df79f5ced6e930&amp;from=serp-more&amp;campaignid=serp-more&amp;jcid=2d4dc7b9ce3c35c1\">Lex Consultancy</a>],\n",
       " [<a class=\"turnstileLink\" data-tn-element=\"jobTitle\" href=\"/rc/clk?jk=315de67b08cffa42\" itemprop=\"title\" onclick=\"return rclk(this,jobmap[3],true,0);\" onmousedown=\"return rclk(this,jobmap[3],0);\" rel=\"nofollow\" target=\"_blank\" title=\"Security Analyst - Fluent Portuguese\">Security Analyst - Fluent Portuguese</a>,\n",
       "  <a class=\"sl resultLink save-job-link\" href=\"#\" id=\"sj_315de67b08cffa42\" onclick=\"changeJobState('315de67b08cffa42', 'save', 'linkbar', false);return false;\" title=\"Save this job to my.indeed\">save job</a>,\n",
       "  <a class=\"sl resultLink tellafriend-link \" href=\"mailto:?subject=I found this job on Indeed&amp;body=http://ie.indeed.com\" onclick=\"toggleTellAFriend('315de67b08cffa42', 3, false); return false;\">email</a>,\n",
       "  <a class=\"sl resultLink more-link \" href=\"#\" id=\"tog_3\" onclick=\"toggleMoreLinks('315de67b08cffa42'); return false;\">more...</a>,\n",
       "  <a class=\"close-link closeLink\" href=\"#\" onclick=\"toggleMoreLinks('315de67b08cffa42'); return false;\" title=\"Close\"></a>,\n",
       "  <a href=\"/Adaptivemobile-Security-jobs\" rel=\"nofollow\">AdaptiveMobile Security jobs</a>,\n",
       "  <a href=\"/jobs-in-Dublin\">Dublin jobs</a>],\n",
       " [<a class=\"turnstileLink\" data-tn-element=\"jobTitle\" href=\"/rc/clk?jk=ce86cd65718fab0f\" itemprop=\"title\" onclick=\"return rclk(this,jobmap[4],true,0);\" onmousedown=\"return rclk(this,jobmap[4],0);\" rel=\"nofollow\" target=\"_blank\" title=\"Human Resources Professional\">Human Resources Professional</a>,\n",
       "  <a class=\"turnstileLink \" data-tn-element=\"reviewStars\" data-tn-variant=\"cmplinktst0\" href=\"/cmp/IBM/reviews?jcid=de71a49b535e21cb\" onmousedown=\"this.href = appendParamsOnce(this.href, '?campaignid=cmplinktst0&amp;from=SERP&amp;jt=Human+Resources+Professional&amp;jk=ce86cd65718fab0f');\" target=\"\" title=\"IBM reviews\">\n",
       "  <span class=\"ratings\"><span class=\"rating\" style=\"width:44.0px;\"><!-- --></span></span><span class=\"sl\">7,079 reviews</span></a>,\n",
       "  <a class=\"more_loc\" href=\"/jobs?q=data&amp;l=dublin&amp;rbt=Human+Resources+Professional&amp;rbc=IBM&amp;jtid=5ea9a4628935b65a&amp;jcid=de71a49b535e21cb&amp;grp=tcl\" onmousedown=\"ptk('addlloc');\" rel=\"nofollow\">+1 location</a>,\n",
       "  <a class=\"sl resultLink save-job-link\" href=\"#\" id=\"sj_ce86cd65718fab0f\" onclick=\"changeJobState('ce86cd65718fab0f', 'save', 'linkbar', false);return false;\" title=\"Save this job to my.indeed\">save job</a>,\n",
       "  <a class=\"sl resultLink tellafriend-link \" href=\"mailto:?subject=I found this job on Indeed&amp;body=http://ie.indeed.com\" onclick=\"toggleTellAFriend('ce86cd65718fab0f', 4, false); return false;\">email</a>,\n",
       "  <a class=\"sl resultLink more-link \" href=\"#\" id=\"tog_4\" onclick=\"toggleMoreLinks('ce86cd65718fab0f'); return false;\">more...</a>,\n",
       "  <a class=\"close-link closeLink\" href=\"#\" onclick=\"toggleMoreLinks('ce86cd65718fab0f'); return false;\" title=\"Close\"></a>,\n",
       "  <a href=\"/IBM-jobs\" rel=\"nofollow\">IBM jobs</a>,\n",
       "  <a href=\"/jobs-in-Mulhuddart,-County-Dublin\">Mulhuddart jobs</a>,\n",
       "  <a href=\"/cmp/IBM?jk=ce86cd65718fab0f&amp;from=serp-more&amp;campaignid=serp-more&amp;jcid=de71a49b535e21cb\">IBM</a>],\n",
       " [<a class=\"turnstileLink\" data-tn-element=\"jobTitle\" href=\"/rc/clk?jk=d2cddc3663bd76e6\" itemprop=\"title\" onclick=\"return rclk(this,jobmap[5],true,0);\" onmousedown=\"return rclk(this,jobmap[5],0);\" rel=\"nofollow\" target=\"_blank\" title=\"Database and Donor Care Officer Part time\">Database and Donor Care Officer Part time</a>,\n",
       "  <a class=\"sl resultLink save-job-link\" href=\"#\" id=\"sj_d2cddc3663bd76e6\" onclick=\"changeJobState('d2cddc3663bd76e6', 'save', 'linkbar', false);return false;\" title=\"Save this job to my.indeed\">save job</a>,\n",
       "  <a class=\"sl resultLink tellafriend-link \" href=\"mailto:?subject=I found this job on Indeed&amp;body=http://ie.indeed.com\" onclick=\"toggleTellAFriend('d2cddc3663bd76e6', 5, false); return false;\">email</a>,\n",
       "  <a class=\"sl resultLink more-link \" href=\"#\" id=\"tog_5\" onclick=\"toggleMoreLinks('d2cddc3663bd76e6'); return false;\">more...</a>,\n",
       "  <a class=\"close-link closeLink\" href=\"#\" onclick=\"toggleMoreLinks('d2cddc3663bd76e6'); return false;\" title=\"Close\"></a>,\n",
       "  <a href=\"/Human-Appeal-International-Ireland-jobs\" rel=\"nofollow\">Human Appeal International Ireland jobs</a>,\n",
       "  <a href=\"/jobs-in-Dublin\">Dublin jobs</a>],\n",
       " [<a class=\"turnstileLink\" data-tn-element=\"jobTitle\" href=\"/rc/clk?jk=9e5ba849a3551fa5\" itemprop=\"title\" onclick=\"return rclk(this,jobmap[6],true,0);\" onmousedown=\"return rclk(this,jobmap[6],0);\" rel=\"nofollow\" target=\"_blank\" title=\"Administration Assistant\">Administration Assistant</a>,\n",
       "  <a class=\"sl resultLink save-job-link\" href=\"#\" id=\"sj_9e5ba849a3551fa5\" onclick=\"changeJobState('9e5ba849a3551fa5', 'save', 'linkbar', false);return false;\" title=\"Save this job to my.indeed\">save job</a>,\n",
       "  <a class=\"sl resultLink tellafriend-link \" href=\"mailto:?subject=I found this job on Indeed&amp;body=http://ie.indeed.com\" onclick=\"toggleTellAFriend('9e5ba849a3551fa5', 6, false); return false;\">email</a>,\n",
       "  <a class=\"sl resultLink more-link \" href=\"#\" id=\"tog_6\" onclick=\"toggleMoreLinks('9e5ba849a3551fa5'); return false;\">more...</a>,\n",
       "  <a class=\"close-link closeLink\" href=\"#\" onclick=\"toggleMoreLinks('9e5ba849a3551fa5'); return false;\" title=\"Close\"></a>,\n",
       "  <a href=\"/Canal-Communities-Partnership-jobs\" rel=\"nofollow\">Canal Communities Partnership jobs</a>,\n",
       "  <a href=\"/jobs-in-Dublin\">Dublin jobs</a>],\n",
       " [<a class=\"turnstileLink\" data-tn-element=\"jobTitle\" href=\"/cmp/Lis-Cara-Business-Centre/jobs/Client-Relation-Internship-5692695857552ddb?r=1\" itemprop=\"title\" onclick=\"return rclk(this,jobmap[7],true,0);\" onmousedown=\"return rclk(this,jobmap[7],0);\" rel=\"nofollow\" target=\"_blank\" title=\"Client Relations Internship\">Client Relations Internship</a>,\n",
       "  <a class=\"sl resultLink save-job-link\" href=\"#\" id=\"sj_5692695857552ddb\" onclick=\"changeJobState('5692695857552ddb', 'save', 'linkbar', false);return false;\" title=\"Save this job to my.indeed\">save job</a>,\n",
       "  <a class=\"sl resultLink tellafriend-link \" href=\"mailto:?subject=I found this job on Indeed&amp;body=http://ie.indeed.com\" onclick=\"toggleTellAFriend('5692695857552ddb', 7, false); return false;\">email</a>,\n",
       "  <a class=\"sl resultLink more-link \" href=\"#\" id=\"tog_7\" onclick=\"toggleMoreLinks('5692695857552ddb'); return false;\">more...</a>,\n",
       "  <a class=\"close-link closeLink\" href=\"#\" onclick=\"toggleMoreLinks('5692695857552ddb'); return false;\" title=\"Close\"></a>,\n",
       "  <a href=\"/Lis-Cara-Business-Centre-jobs\" rel=\"nofollow\">Lis Cara Business Centre jobs</a>,\n",
       "  <a href=\"/jobs-in-Dublin\">Dublin jobs</a>,\n",
       "  <a href=\"/cmp/Lis-Cara-Business-Centre?jk=5692695857552ddb&amp;from=serp-more&amp;campaignid=serp-more&amp;jcid=a96866740d61ca2c\">Lis Cara Business Centre</a>],\n",
       " [<a class=\"turnstileLink\" data-tn-element=\"jobTitle\" href=\"/cmp/Bilinger-Ireland/jobs/Property-Manager-dcdd71c9e5a43728?r=1\" itemprop=\"title\" onclick=\"return rclk(this,jobmap[8],true,0);\" onmousedown=\"return rclk(this,jobmap[8],0);\" rel=\"nofollow\" target=\"_blank\" title=\"Property Manager\">Property Manager</a>,\n",
       "  <a class=\"sl resultLink save-job-link\" href=\"#\" id=\"sj_dcdd71c9e5a43728\" onclick=\"changeJobState('dcdd71c9e5a43728', 'save', 'linkbar', false);return false;\" title=\"Save this job to my.indeed\">save job</a>,\n",
       "  <a class=\"sl resultLink tellafriend-link \" href=\"mailto:?subject=I found this job on Indeed&amp;body=http://ie.indeed.com\" onclick=\"toggleTellAFriend('dcdd71c9e5a43728', 8, false); return false;\">email</a>,\n",
       "  <a class=\"sl resultLink more-link \" href=\"#\" id=\"tog_8\" onclick=\"toggleMoreLinks('dcdd71c9e5a43728'); return false;\">more...</a>,\n",
       "  <a class=\"close-link closeLink\" href=\"#\" onclick=\"toggleMoreLinks('dcdd71c9e5a43728'); return false;\" title=\"Close\"></a>,\n",
       "  <a href=\"/Bilinger-Ireland-jobs\" rel=\"nofollow\">Bilinger Ireland jobs</a>,\n",
       "  <a href=\"/jobs-in-Dublin\">Dublin jobs</a>,\n",
       "  <a href=\"/cmp/Bilinger-Ireland?jk=dcdd71c9e5a43728&amp;from=serp-more&amp;campaignid=serp-more&amp;jcid=046e7c328a4fd550\">Bilinger Ireland</a>],\n",
       " [<a class=\"turnstileLink\" data-tn-element=\"jobTitle\" href=\"/rc/clk?jk=e3223726bed3339c\" itemprop=\"title\" onclick=\"return rclk(this,jobmap[9],true,0);\" onmousedown=\"return rclk(this,jobmap[9],0);\" rel=\"nofollow\" target=\"_blank\" title=\"Onsite Supervisors - Anti Money Laundering Division\">Onsite Supervisors - Anti Money Laundering Division</a>,\n",
       "  <a class=\"sl resultLink save-job-link\" href=\"#\" id=\"sj_e3223726bed3339c\" onclick=\"changeJobState('e3223726bed3339c', 'save', 'linkbar', false);return false;\" title=\"Save this job to my.indeed\">save job</a>,\n",
       "  <a class=\"sl resultLink tellafriend-link \" href=\"mailto:?subject=I found this job on Indeed&amp;body=http://ie.indeed.com\" onclick=\"toggleTellAFriend('e3223726bed3339c', 9, false); return false;\">email</a>,\n",
       "  <a class=\"sl resultLink more-link \" href=\"#\" id=\"tog_9\" onclick=\"toggleMoreLinks('e3223726bed3339c'); return false;\">more...</a>,\n",
       "  <a class=\"close-link closeLink\" href=\"#\" onclick=\"toggleMoreLinks('e3223726bed3339c'); return false;\" title=\"Close\"></a>,\n",
       "  <a href=\"/Central-Bank-of-Ireland-jobs\" rel=\"nofollow\">Central Bank of Ireland jobs</a>,\n",
       "  <a href=\"/jobs-in-Dublin\">Dublin jobs</a>,\n",
       "  <a href=\"/cmp/Central-Bank-of-Ireland?jk=e3223726bed3339c&amp;from=serp-more&amp;campaignid=serp-more&amp;jcid=30ece892b45cf49a\">Central Bank of Ireland</a>]]"
      ]
     },
     "execution_count": 288,
     "metadata": {},
     "output_type": "execute_result"
    }
   ],
   "source": [
    "temp2"
   ]
  },
  {
   "cell_type": "code",
   "execution_count": 282,
   "metadata": {
    "collapsed": false
   },
   "outputs": [
    {
     "data": {
      "text/plain": [
       "[[<a class=\"turnstileLink\" data-tn-element=\"jobTitle\" href=\"/rc/clk?jk=efd4717a44c67c87\" itemprop=\"title\" onclick=\"return rclk(this,jobmap[0],true,0);\" onmousedown=\"return rclk(this,jobmap[0],0);\" rel=\"nofollow\" target=\"_blank\" title=\"Data Analyst\"><b>Data</b> Analyst</a>,\n",
       "  <a class=\"sl resultLink save-job-link\" href=\"#\" id=\"sj_efd4717a44c67c87\" onclick=\"changeJobState('efd4717a44c67c87', 'save', 'linkbar', false);return false;\" title=\"Save this job to my.indeed\">save job</a>,\n",
       "  <a class=\"sl resultLink tellafriend-link \" href=\"mailto:?subject=I found this job on Indeed&amp;body=http://ie.indeed.com\" onclick=\"toggleTellAFriend('efd4717a44c67c87', 0, false); return false;\">email</a>,\n",
       "  <a class=\"sl resultLink more-link \" href=\"#\" id=\"tog_0\" onclick=\"toggleMoreLinks('efd4717a44c67c87'); return false;\">more...</a>,\n",
       "  <a class=\"close-link closeLink\" href=\"#\" onclick=\"toggleMoreLinks('efd4717a44c67c87'); return false;\" title=\"Close\"></a>,\n",
       "  <a href=\"/Fk-International-jobs\" rel=\"nofollow\">FK International jobs</a>,\n",
       "  <a href=\"/jobs-in-Dublin\">Dublin jobs</a>],\n",
       " [<a class=\"turnstileLink\" data-tn-element=\"jobTitle\" href=\"/rc/clk?jk=a38614aec26e683c\" itemprop=\"title\" onclick=\"return rclk(this,jobmap[1],true,0);\" onmousedown=\"return rclk(this,jobmap[1],0);\" rel=\"nofollow\" target=\"_blank\" title=\"Datacomms Installer\">Datacomms Installer</a>,\n",
       "  <a class=\"sl resultLink save-job-link\" href=\"#\" id=\"sj_a38614aec26e683c\" onclick=\"changeJobState('a38614aec26e683c', 'save', 'linkbar', false);return false;\" title=\"Save this job to my.indeed\">save job</a>,\n",
       "  <a class=\"sl resultLink tellafriend-link \" href=\"mailto:?subject=I found this job on Indeed&amp;body=http://ie.indeed.com\" onclick=\"toggleTellAFriend('a38614aec26e683c', 1, false); return false;\">email</a>,\n",
       "  <a class=\"sl resultLink more-link \" href=\"#\" id=\"tog_1\" onclick=\"toggleMoreLinks('a38614aec26e683c'); return false;\">more...</a>,\n",
       "  <a class=\"close-link closeLink\" href=\"#\" onclick=\"toggleMoreLinks('a38614aec26e683c'); return false;\" title=\"Close\"></a>,\n",
       "  <a href=\"/Dc-Coms-jobs\" rel=\"nofollow\">DC Coms jobs</a>,\n",
       "  <a href=\"/jobs-in-Dublin\">Dublin jobs</a>],\n",
       " [<a class=\"turnstileLink\" data-tn-element=\"jobTitle\" href=\"/rc/clk?jk=a9df79f5ced6e930\" itemprop=\"title\" onclick=\"return rclk(this,jobmap[2],true,0);\" onmousedown=\"return rclk(this,jobmap[2],0);\" rel=\"nofollow\" target=\"_blank\" title=\"Data Entry Administrators\"><b>Data</b> Entry Administrators</a>,\n",
       "  <a class=\"sl resultLink save-job-link\" href=\"#\" id=\"sj_a9df79f5ced6e930\" onclick=\"changeJobState('a9df79f5ced6e930', 'save', 'linkbar', false);return false;\" title=\"Save this job to my.indeed\">save job</a>,\n",
       "  <a class=\"sl resultLink tellafriend-link \" href=\"mailto:?subject=I found this job on Indeed&amp;body=http://ie.indeed.com\" onclick=\"toggleTellAFriend('a9df79f5ced6e930', 2, false); return false;\">email</a>,\n",
       "  <a class=\"sl resultLink more-link \" href=\"#\" id=\"tog_2\" onclick=\"toggleMoreLinks('a9df79f5ced6e930'); return false;\">more...</a>,\n",
       "  <a class=\"close-link closeLink\" href=\"#\" onclick=\"toggleMoreLinks('a9df79f5ced6e930'); return false;\" title=\"Close\"></a>,\n",
       "  <a href=\"/Lex-Consultancy-jobs\" rel=\"nofollow\">Lex Consultancy jobs</a>,\n",
       "  <a href=\"/jobs-in-Dublin\">Dublin jobs</a>,\n",
       "  <a href=\"/cmp/Lex-Consultancy?jk=a9df79f5ced6e930&amp;from=serp-more&amp;campaignid=serp-more&amp;jcid=2d4dc7b9ce3c35c1\">Lex Consultancy</a>],\n",
       " [<a class=\"turnstileLink\" data-tn-element=\"jobTitle\" href=\"/rc/clk?jk=315de67b08cffa42\" itemprop=\"title\" onclick=\"return rclk(this,jobmap[3],true,0);\" onmousedown=\"return rclk(this,jobmap[3],0);\" rel=\"nofollow\" target=\"_blank\" title=\"Security Analyst - Fluent Portuguese\">Security Analyst - Fluent Portuguese</a>,\n",
       "  <a class=\"sl resultLink save-job-link\" href=\"#\" id=\"sj_315de67b08cffa42\" onclick=\"changeJobState('315de67b08cffa42', 'save', 'linkbar', false);return false;\" title=\"Save this job to my.indeed\">save job</a>,\n",
       "  <a class=\"sl resultLink tellafriend-link \" href=\"mailto:?subject=I found this job on Indeed&amp;body=http://ie.indeed.com\" onclick=\"toggleTellAFriend('315de67b08cffa42', 3, false); return false;\">email</a>,\n",
       "  <a class=\"sl resultLink more-link \" href=\"#\" id=\"tog_3\" onclick=\"toggleMoreLinks('315de67b08cffa42'); return false;\">more...</a>,\n",
       "  <a class=\"close-link closeLink\" href=\"#\" onclick=\"toggleMoreLinks('315de67b08cffa42'); return false;\" title=\"Close\"></a>,\n",
       "  <a href=\"/Adaptivemobile-Security-jobs\" rel=\"nofollow\">AdaptiveMobile Security jobs</a>,\n",
       "  <a href=\"/jobs-in-Dublin\">Dublin jobs</a>],\n",
       " [<a class=\"turnstileLink\" data-tn-element=\"jobTitle\" href=\"/rc/clk?jk=ce86cd65718fab0f\" itemprop=\"title\" onclick=\"return rclk(this,jobmap[4],true,0);\" onmousedown=\"return rclk(this,jobmap[4],0);\" rel=\"nofollow\" target=\"_blank\" title=\"Human Resources Professional\">Human Resources Professional</a>,\n",
       "  <a class=\"turnstileLink \" data-tn-element=\"reviewStars\" data-tn-variant=\"cmplinktst0\" href=\"/cmp/IBM/reviews?jcid=de71a49b535e21cb\" onmousedown=\"this.href = appendParamsOnce(this.href, '?campaignid=cmplinktst0&amp;from=SERP&amp;jt=Human+Resources+Professional&amp;jk=ce86cd65718fab0f');\" target=\"\" title=\"IBM reviews\">\n",
       "  <span class=\"ratings\"><span class=\"rating\" style=\"width:44.0px;\"><!-- --></span></span><span class=\"sl\">7,079 reviews</span></a>,\n",
       "  <a class=\"more_loc\" href=\"/jobs?q=data&amp;l=dublin&amp;rbt=Human+Resources+Professional&amp;rbc=IBM&amp;jtid=5ea9a4628935b65a&amp;jcid=de71a49b535e21cb&amp;grp=tcl\" onmousedown=\"ptk('addlloc');\" rel=\"nofollow\">+1 location</a>,\n",
       "  <a class=\"sl resultLink save-job-link\" href=\"#\" id=\"sj_ce86cd65718fab0f\" onclick=\"changeJobState('ce86cd65718fab0f', 'save', 'linkbar', false);return false;\" title=\"Save this job to my.indeed\">save job</a>,\n",
       "  <a class=\"sl resultLink tellafriend-link \" href=\"mailto:?subject=I found this job on Indeed&amp;body=http://ie.indeed.com\" onclick=\"toggleTellAFriend('ce86cd65718fab0f', 4, false); return false;\">email</a>,\n",
       "  <a class=\"sl resultLink more-link \" href=\"#\" id=\"tog_4\" onclick=\"toggleMoreLinks('ce86cd65718fab0f'); return false;\">more...</a>,\n",
       "  <a class=\"close-link closeLink\" href=\"#\" onclick=\"toggleMoreLinks('ce86cd65718fab0f'); return false;\" title=\"Close\"></a>,\n",
       "  <a href=\"/IBM-jobs\" rel=\"nofollow\">IBM jobs</a>,\n",
       "  <a href=\"/jobs-in-Mulhuddart,-County-Dublin\">Mulhuddart jobs</a>,\n",
       "  <a href=\"/cmp/IBM?jk=ce86cd65718fab0f&amp;from=serp-more&amp;campaignid=serp-more&amp;jcid=de71a49b535e21cb\">IBM</a>],\n",
       " [<a class=\"turnstileLink\" data-tn-element=\"jobTitle\" href=\"/rc/clk?jk=d2cddc3663bd76e6\" itemprop=\"title\" onclick=\"return rclk(this,jobmap[5],true,0);\" onmousedown=\"return rclk(this,jobmap[5],0);\" rel=\"nofollow\" target=\"_blank\" title=\"Database and Donor Care Officer Part time\">Database and Donor Care Officer Part time</a>,\n",
       "  <a class=\"sl resultLink save-job-link\" href=\"#\" id=\"sj_d2cddc3663bd76e6\" onclick=\"changeJobState('d2cddc3663bd76e6', 'save', 'linkbar', false);return false;\" title=\"Save this job to my.indeed\">save job</a>,\n",
       "  <a class=\"sl resultLink tellafriend-link \" href=\"mailto:?subject=I found this job on Indeed&amp;body=http://ie.indeed.com\" onclick=\"toggleTellAFriend('d2cddc3663bd76e6', 5, false); return false;\">email</a>,\n",
       "  <a class=\"sl resultLink more-link \" href=\"#\" id=\"tog_5\" onclick=\"toggleMoreLinks('d2cddc3663bd76e6'); return false;\">more...</a>,\n",
       "  <a class=\"close-link closeLink\" href=\"#\" onclick=\"toggleMoreLinks('d2cddc3663bd76e6'); return false;\" title=\"Close\"></a>,\n",
       "  <a href=\"/Human-Appeal-International-Ireland-jobs\" rel=\"nofollow\">Human Appeal International Ireland jobs</a>,\n",
       "  <a href=\"/jobs-in-Dublin\">Dublin jobs</a>],\n",
       " [<a class=\"turnstileLink\" data-tn-element=\"jobTitle\" href=\"/rc/clk?jk=9e5ba849a3551fa5\" itemprop=\"title\" onclick=\"return rclk(this,jobmap[6],true,0);\" onmousedown=\"return rclk(this,jobmap[6],0);\" rel=\"nofollow\" target=\"_blank\" title=\"Administration Assistant\">Administration Assistant</a>,\n",
       "  <a class=\"sl resultLink save-job-link\" href=\"#\" id=\"sj_9e5ba849a3551fa5\" onclick=\"changeJobState('9e5ba849a3551fa5', 'save', 'linkbar', false);return false;\" title=\"Save this job to my.indeed\">save job</a>,\n",
       "  <a class=\"sl resultLink tellafriend-link \" href=\"mailto:?subject=I found this job on Indeed&amp;body=http://ie.indeed.com\" onclick=\"toggleTellAFriend('9e5ba849a3551fa5', 6, false); return false;\">email</a>,\n",
       "  <a class=\"sl resultLink more-link \" href=\"#\" id=\"tog_6\" onclick=\"toggleMoreLinks('9e5ba849a3551fa5'); return false;\">more...</a>,\n",
       "  <a class=\"close-link closeLink\" href=\"#\" onclick=\"toggleMoreLinks('9e5ba849a3551fa5'); return false;\" title=\"Close\"></a>,\n",
       "  <a href=\"/Canal-Communities-Partnership-jobs\" rel=\"nofollow\">Canal Communities Partnership jobs</a>,\n",
       "  <a href=\"/jobs-in-Dublin\">Dublin jobs</a>],\n",
       " [<a class=\"turnstileLink\" data-tn-element=\"jobTitle\" href=\"/cmp/Lis-Cara-Business-Centre/jobs/Client-Relation-Internship-5692695857552ddb?r=1\" itemprop=\"title\" onclick=\"return rclk(this,jobmap[7],true,0);\" onmousedown=\"return rclk(this,jobmap[7],0);\" rel=\"nofollow\" target=\"_blank\" title=\"Client Relations Internship\">Client Relations Internship</a>,\n",
       "  <a class=\"sl resultLink save-job-link\" href=\"#\" id=\"sj_5692695857552ddb\" onclick=\"changeJobState('5692695857552ddb', 'save', 'linkbar', false);return false;\" title=\"Save this job to my.indeed\">save job</a>,\n",
       "  <a class=\"sl resultLink tellafriend-link \" href=\"mailto:?subject=I found this job on Indeed&amp;body=http://ie.indeed.com\" onclick=\"toggleTellAFriend('5692695857552ddb', 7, false); return false;\">email</a>,\n",
       "  <a class=\"sl resultLink more-link \" href=\"#\" id=\"tog_7\" onclick=\"toggleMoreLinks('5692695857552ddb'); return false;\">more...</a>,\n",
       "  <a class=\"close-link closeLink\" href=\"#\" onclick=\"toggleMoreLinks('5692695857552ddb'); return false;\" title=\"Close\"></a>,\n",
       "  <a href=\"/Lis-Cara-Business-Centre-jobs\" rel=\"nofollow\">Lis Cara Business Centre jobs</a>,\n",
       "  <a href=\"/jobs-in-Dublin\">Dublin jobs</a>,\n",
       "  <a href=\"/cmp/Lis-Cara-Business-Centre?jk=5692695857552ddb&amp;from=serp-more&amp;campaignid=serp-more&amp;jcid=a96866740d61ca2c\">Lis Cara Business Centre</a>],\n",
       " [<a class=\"turnstileLink\" data-tn-element=\"jobTitle\" href=\"/cmp/Bilinger-Ireland/jobs/Property-Manager-dcdd71c9e5a43728?r=1\" itemprop=\"title\" onclick=\"return rclk(this,jobmap[8],true,0);\" onmousedown=\"return rclk(this,jobmap[8],0);\" rel=\"nofollow\" target=\"_blank\" title=\"Property Manager\">Property Manager</a>,\n",
       "  <a class=\"sl resultLink save-job-link\" href=\"#\" id=\"sj_dcdd71c9e5a43728\" onclick=\"changeJobState('dcdd71c9e5a43728', 'save', 'linkbar', false);return false;\" title=\"Save this job to my.indeed\">save job</a>,\n",
       "  <a class=\"sl resultLink tellafriend-link \" href=\"mailto:?subject=I found this job on Indeed&amp;body=http://ie.indeed.com\" onclick=\"toggleTellAFriend('dcdd71c9e5a43728', 8, false); return false;\">email</a>,\n",
       "  <a class=\"sl resultLink more-link \" href=\"#\" id=\"tog_8\" onclick=\"toggleMoreLinks('dcdd71c9e5a43728'); return false;\">more...</a>,\n",
       "  <a class=\"close-link closeLink\" href=\"#\" onclick=\"toggleMoreLinks('dcdd71c9e5a43728'); return false;\" title=\"Close\"></a>,\n",
       "  <a href=\"/Bilinger-Ireland-jobs\" rel=\"nofollow\">Bilinger Ireland jobs</a>,\n",
       "  <a href=\"/jobs-in-Dublin\">Dublin jobs</a>,\n",
       "  <a href=\"/cmp/Bilinger-Ireland?jk=dcdd71c9e5a43728&amp;from=serp-more&amp;campaignid=serp-more&amp;jcid=046e7c328a4fd550\">Bilinger Ireland</a>],\n",
       " [<a class=\"turnstileLink\" data-tn-element=\"jobTitle\" href=\"/rc/clk?jk=e3223726bed3339c\" itemprop=\"title\" onclick=\"return rclk(this,jobmap[9],true,0);\" onmousedown=\"return rclk(this,jobmap[9],0);\" rel=\"nofollow\" target=\"_blank\" title=\"Onsite Supervisors - Anti Money Laundering Division\">Onsite Supervisors - Anti Money Laundering Division</a>,\n",
       "  <a class=\"sl resultLink save-job-link\" href=\"#\" id=\"sj_e3223726bed3339c\" onclick=\"changeJobState('e3223726bed3339c', 'save', 'linkbar', false);return false;\" title=\"Save this job to my.indeed\">save job</a>,\n",
       "  <a class=\"sl resultLink tellafriend-link \" href=\"mailto:?subject=I found this job on Indeed&amp;body=http://ie.indeed.com\" onclick=\"toggleTellAFriend('e3223726bed3339c', 9, false); return false;\">email</a>,\n",
       "  <a class=\"sl resultLink more-link \" href=\"#\" id=\"tog_9\" onclick=\"toggleMoreLinks('e3223726bed3339c'); return false;\">more...</a>,\n",
       "  <a class=\"close-link closeLink\" href=\"#\" onclick=\"toggleMoreLinks('e3223726bed3339c'); return false;\" title=\"Close\"></a>,\n",
       "  <a href=\"/Central-Bank-of-Ireland-jobs\" rel=\"nofollow\">Central Bank of Ireland jobs</a>,\n",
       "  <a href=\"/jobs-in-Dublin\">Dublin jobs</a>,\n",
       "  <a href=\"/cmp/Central-Bank-of-Ireland?jk=e3223726bed3339c&amp;from=serp-more&amp;campaignid=serp-more&amp;jcid=30ece892b45cf49a\">Central Bank of Ireland</a>]]"
      ]
     },
     "execution_count": 282,
     "metadata": {},
     "output_type": "execute_result"
    }
   ],
   "source": [
    "temp3 = filter(lambda)"
   ]
  },
  {
   "cell_type": "code",
   "execution_count": 269,
   "metadata": {
    "collapsed": false
   },
   "outputs": [
    {
     "data": {
      "text/plain": [
       "[2, 2, 2, 2, 2, 2, 2, 2, 2, 2, 2, 2, 2, 2, 2]"
      ]
     },
     "execution_count": 269,
     "metadata": {},
     "output_type": "execute_result"
    }
   ],
   "source": [
    "[len(x+y) for x in 'catty' for y in 'pot']"
   ]
  },
  {
   "cell_type": "code",
   "execution_count": 246,
   "metadata": {
    "collapsed": false
   },
   "outputs": [
    {
     "data": {
      "text/plain": [
       "10"
      ]
     },
     "execution_count": 246,
     "metadata": {},
     "output_type": "execute_result"
    }
   ],
   "source": [
    "int(jobNumbers[1])"
   ]
  },
  {
   "cell_type": "code",
   "execution_count": 197,
   "metadata": {
    "collapsed": false
   },
   "outputs": [
    {
     "data": {
      "text/plain": [
       "xrange(1, 10)"
      ]
     },
     "execution_count": 197,
     "metadata": {},
     "output_type": "execute_result"
    }
   ],
   "source": [
    "xrange(1,10)"
   ]
  },
  {
   "cell_type": "code",
   "execution_count": null,
   "metadata": {
    "collapsed": true
   },
   "outputs": [],
   "source": []
  },
  {
   "cell_type": "code",
   "execution_count": 184,
   "metadata": {
    "collapsed": false
   },
   "outputs": [
    {
     "data": {
      "text/plain": [
       "u'Jobs 1 to 10 of 4868'"
      ]
     },
     "execution_count": 184,
     "metadata": {},
     "output_type": "execute_result"
    }
   ],
   "source": [
    "numReturnedJobs"
   ]
  },
  {
   "cell_type": "code",
   "execution_count": 183,
   "metadata": {
    "collapsed": false
   },
   "outputs": [],
   "source": [
    "numReturnedJobs = numReturnedJobs.replace(\",\",\"\")"
   ]
  },
  {
   "cell_type": "code",
   "execution_count": 187,
   "metadata": {
    "collapsed": false
   },
   "outputs": [],
   "source": [
    "#replace the comma with blank\n",
    "job_numbers = re.findall('\\d+', numReturnedJobs.encode('utf-8'))"
   ]
  },
  {
   "cell_type": "code",
   "execution_count": 188,
   "metadata": {
    "collapsed": false
   },
   "outputs": [
    {
     "name": "stdout",
     "output_type": "stream",
     "text": [
      "<type 'str'>\n",
      "<type 'str'>\n",
      "<type 'str'>\n"
     ]
    }
   ],
   "source": [
    "for aa in job_numbers:\n",
    "    print type(aa)"
   ]
  },
  {
   "cell_type": "code",
   "execution_count": 189,
   "metadata": {
    "collapsed": false
   },
   "outputs": [
    {
     "data": {
      "text/plain": [
       "['1', '10', '4868']"
      ]
     },
     "execution_count": 189,
     "metadata": {},
     "output_type": "execute_result"
    }
   ],
   "source": [
    "job_numbers"
   ]
  },
  {
   "cell_type": "code",
   "execution_count": null,
   "metadata": {
    "collapsed": true
   },
   "outputs": [],
   "source": []
  }
 ],
 "metadata": {
  "kernelspec": {
   "display_name": "Python 2",
   "language": "python",
   "name": "python2"
  },
  "language_info": {
   "codemirror_mode": {
    "name": "ipython",
    "version": 2
   },
   "file_extension": ".py",
   "mimetype": "text/x-python",
   "name": "python",
   "nbconvert_exporter": "python",
   "pygments_lexer": "ipython2",
   "version": "2.7.10"
  }
 },
 "nbformat": 4,
 "nbformat_minor": 0
}
